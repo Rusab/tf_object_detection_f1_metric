{
 "cells": [
  {
   "cell_type": "markdown",
   "metadata": {},
   "source": [
    "**Import CSV Files**"
   ]
  },
  {
   "cell_type": "code",
   "execution_count": 27,
   "metadata": {},
   "outputs": [],
   "source": [
    "import pandas as pd\n",
    "ground_truth = pd.read_csv('val_annotations.csv')\n",
    "pred = pd.read_csv('predict_val_frcnn.csv')"
   ]
  },
  {
   "cell_type": "markdown",
   "metadata": {},
   "source": [
    "**Make dictionary from dataframe**"
   ]
  },
  {
   "cell_type": "code",
   "execution_count": 28,
   "metadata": {},
   "outputs": [],
   "source": [
    "def dictmaker(df):\n",
    "    \n",
    "    data_dict = {}\n",
    "    #initializing prev which is used to check if consecutive rows are from the same image\n",
    "    prev = ''\n",
    "    for ind in df.index:\n",
    "        name = df['filename'][ind]\n",
    "        if prev != name:\n",
    "            # initialize a new bbox list if the current row represents a new image\n",
    "            bboxes =[]\n",
    "            \n",
    "        prev = name\n",
    "\n",
    "        xmin = df['xmin'][ind]\n",
    "        ymin = df['ymin'][ind]\n",
    "        xmax = df['xmax'][ind]\n",
    "        ymax = df['ymax'][ind]\n",
    "\n",
    "        bbox = [xmin, ymin, xmax, ymax]\n",
    "        bboxes.append(bbox)\n",
    "        \n",
    "        #store in dictionary\n",
    "        data_dict[name] = bboxes\n",
    "\n",
    "    return data_dict\n"
   ]
  },
  {
   "cell_type": "code",
   "execution_count": 29,
   "metadata": {},
   "outputs": [],
   "source": [
    "#creating dictionary from ground truth and prediction dataframes\n",
    "gnd = dictmaker(ground_truth)\n",
    "predict = dictmaker(pred)"
   ]
  },
  {
   "cell_type": "code",
   "execution_count": 30,
   "metadata": {},
   "outputs": [],
   "source": [
    "#Gets list of unique file names in the set\n",
    "names = ground_truth['filename'].unique()\n",
    "names = list(names)"
   ]
  },
  {
   "cell_type": "code",
   "execution_count": 31,
   "metadata": {},
   "outputs": [],
   "source": [
    "### IoU calculation code taken from Treesfive's git repo - https://github.com/Treesfive/calculate-iou\n",
    "\n",
    "import numpy as np\n",
    "\n",
    "iou_thres = 0.5\n",
    "\n",
    "def get_iou(pred_box, gt_box):\n",
    "    \"\"\"\n",
    "    pred_box : the coordinate for predict bounding box\n",
    "    gt_box :   the coordinate for ground truth bounding box\n",
    "    return :   the iou score\n",
    "    the  left-down coordinate of  pred_box:(pred_box[0], pred_box[1])\n",
    "    the  right-up coordinate of  pred_box:(pred_box[2], pred_box[3])\n",
    "    \"\"\"\n",
    "    # 1.get the coordinate of inters\n",
    "    ixmin = max(pred_box[0], gt_box[0])\n",
    "    ixmax = min(pred_box[2], gt_box[2])\n",
    "    iymin = max(pred_box[1], gt_box[1])\n",
    "    iymax = min(pred_box[3], gt_box[3])\n",
    "\n",
    "    iw = np.maximum(ixmax-ixmin+1., 0.)\n",
    "    ih = np.maximum(iymax-iymin+1., 0.)\n",
    "\n",
    "    # 2. calculate the area of inters\n",
    "    inters = iw*ih\n",
    "\n",
    "    # 3. calculate the area of union\n",
    "    uni = ((pred_box[2]-pred_box[0]+1.) * (pred_box[3]-pred_box[1]+1.) +\n",
    "           (gt_box[2] - gt_box[0] + 1.) * (gt_box[3] - gt_box[1] + 1.) -\n",
    "           inters)\n",
    "\n",
    "    # 4. calculate the overlaps between pred_box and gt_box\n",
    "    iou = inters / uni\n",
    "\n",
    "    return iou"
   ]
  },
  {
   "cell_type": "markdown",
   "metadata": {},
   "source": [
    "**Calculate True Positive, False Positve and False Negative**"
   ]
  },
  {
   "cell_type": "code",
   "execution_count": 32,
   "metadata": {},
   "outputs": [],
   "source": [
    "#initializing global variables\n",
    "TP = 0\n",
    "FP = 0\n",
    "FN = 0\n",
    "\n",
    "#iterate through each file\n",
    "for name in names:\n",
    "    #check if the file is in the prediciton list\n",
    "    try:\n",
    "        gnd_array = gnd[name]\n",
    "        pred_array = predict[name]\n",
    "        \n",
    "        #initialize tp, fp, fn related variables for one image\n",
    "        image_true_pred = 0\n",
    "        image_total_pred = len(pred_array)\n",
    "        image_fn = 0\n",
    "        image_fp = 0\n",
    "        image_tp = 0\n",
    "\n",
    "        #iterate over all the ground truth bboxes\n",
    "        for bbox_gnd in gnd_array:\n",
    "            all_bbox_iou = []\n",
    "            \n",
    "            #calculate iou of each ground truth bouding box for all the prediction bboxes\n",
    "            for bbox_pred in pred_array:\n",
    "                all_bbox_iou.append(get_iou(bbox_pred, bbox_gnd))\n",
    "\n",
    "            max_iou = max(all_bbox_iou)\n",
    "\n",
    "            #check if the max iou for a ground truth bbox meets the threshold\n",
    "            if max_iou >= iou_thres:\n",
    "                image_true_pred += 1\n",
    "            else:\n",
    "                image_fn += 1\n",
    "\n",
    "        #false positives are calculated after all true predicitons have been identified\n",
    "        image_fp += (image_total_pred - image_true_pred)\n",
    "        image_tp = image_true_pred\n",
    "\n",
    "        #incrementing global values\n",
    "        TP += image_tp\n",
    "        FP += image_fp\n",
    "        FN += image_fn\n",
    "\n",
    "    #if a file is not in the prediciton list then all the ground truth bboxes are false negatives\n",
    "    except:\n",
    "        FN += len(gnd[name])\n",
    "    \n"
   ]
  },
  {
   "cell_type": "markdown",
   "metadata": {},
   "source": [
    "**Calculate Precision, Recall and F1-Score**"
   ]
  },
  {
   "cell_type": "code",
   "execution_count": 33,
   "metadata": {},
   "outputs": [
    {
     "data": {
      "text/plain": [
       "(0.768, 0.7868852459016393, 0.7773279352226721)"
      ]
     },
     "execution_count": 33,
     "metadata": {},
     "output_type": "execute_result"
    }
   ],
   "source": [
    "pre = TP/(TP+FP)\n",
    "rec = TP/(TP+FN)\n",
    "f1_score = (2*pre*rec)/(pre+rec)\n",
    "\n",
    "pre, rec, f1_score"
   ]
  },
  {
   "cell_type": "code",
   "execution_count": null,
   "metadata": {},
   "outputs": [],
   "source": []
  }
 ],
 "metadata": {
  "kernelspec": {
   "display_name": "Python 3.9.6 64-bit",
   "language": "python",
   "name": "python3"
  },
  "language_info": {
   "codemirror_mode": {
    "name": "ipython",
    "version": 3
   },
   "file_extension": ".py",
   "mimetype": "text/x-python",
   "name": "python",
   "nbconvert_exporter": "python",
   "pygments_lexer": "ipython3",
   "version": "3.9.6"
  },
  "orig_nbformat": 4,
  "vscode": {
   "interpreter": {
    "hash": "72c040cb0d415db2c05e3e4f3fbc60605e9549341fae5cd5d6069294930dd723"
   }
  }
 },
 "nbformat": 4,
 "nbformat_minor": 2
}
